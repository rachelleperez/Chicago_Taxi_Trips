{
 "cells": [
  {
   "cell_type": "markdown",
   "metadata": {},
   "source": [
    "# What Affects Rides? *(Analysis for Hypothetical Ride-Sharing Company Zuber)*\n",
    "\n",
    "## Project Description\n",
    "\n",
    "You're working as an analyst for Zuber, a new ride-sharing company that's launching in Chicago. Your task is to find patterns in the available information. You want to understand passenger preferences and the impact of external factors on rides.\n",
    "You'll study a database, analyze data from competitors, and test a hypothesis about the impact of weather on ride frequency.\n",
    "\n",
    "## Objective: What Affects a Ride?\n",
    "\n",
    "The goal for this project is to understand trends related to rides. My analysis will focus on **Chicago, IL (USA)** market and focus on two angles:\n",
    "* Passenger Preferences\n",
    "* Impact of External Factors (including exploring hypothesis on the impact of weather)\n",
    "\n",
    "## Description of the data\n",
    "\n",
    "*A database with info on taxi rides in Chicago:*\n",
    "\n",
    "**neighborhoods table: data on city neighborhoods**\n",
    "* name: name of the neighborhood\n",
    "* neighborhood_id: neighborhood code\n",
    "\n",
    "**cabs table: data on taxis**\n",
    "* cab_id: vehicle code\n",
    "* vehicle_id: the vehicle's technical ID\n",
    "* company_name: the company that owns the vehicle\n",
    "\n",
    "**trips table: data on rides**\n",
    "* trip_id: ride code\n",
    "* cab_id: code of the vehicle operating the ride\n",
    "* start_ts: date and time of the beginning of the ride (time rounded to the hour)\n",
    "* end_ts: date and time of the end of the ride (time rounded to the hour)\n",
    "* duration_seconds: ride duration in seconds\n",
    "* distance_miles: ride distance in miles\n",
    "* pickup_location_id: pickup neighborhood code\n",
    "* dropoff_location_id: dropoff neighborhood code\n",
    "\n",
    "**weather_records table: data on weather**\n",
    "* record_id: weather record code\n",
    "* ts: record date and time (time rounded to the hour)\n",
    "* temperature: temperature when the record was taken\n",
    "* description: brief description of weather conditions, e.g. \"light rain\" or \"scattered clouds\"\n",
    "\n",
    "## Table scheme\n",
    " \n",
    "![Schema](schema.jpg) \n",
    "\n",
    "Note: there isn't a direct connection between the tables trips and weather_records in the database. But you can still use JOIN and link them using the time the ride started (trips.start_ts) and the time the weather record was taken (weather_records.ts).\n",
    "\n",
    "\n",
    "## Agenda  <a class=\"anchor\" id=\"agenda\"></a>\n",
    "\n",
    "*Note: Only the linked sections are included in this Jupyter Notebook.*\n",
    "\n",
    "1. [Background](#background)\n",
    "2. Parse Chicago, IL weather records from November 2017 from [THIS](https://code.s3.yandex.net/data-analyst-eng/chicago_weather_2017.html) website. Note: code saved in **data_parsing.py**\n",
    "3. Exploratory Data Analysis I (SQL). Note: queries saved in **eda_1.sql**\n",
    "    * Number of trips by company Nov 15-16, 2017\n",
    "    * Number of trips for companies that include 'Yellow' or 'Blue' in name Nov 1-7, 2017\n",
    "    * Number of November 2017 trips split by 3 company segments: 'Flash Cab', 'Taxi Affiliation Service', 'Other'\n",
    "4. [Conclusion(s) from Exploratory Data Analysis I](#eda1)\n",
    "5. Hypothesis Analysis (SQL). Note: queries saved in **eda_1.sql**\n",
    "    * Identify neighborhoods codes for 'O'Hare' and 'Loop' neighborhoods \n",
    "    * Create weather_condition column in table\n",
    "    * Number of Trips with pickups in 'O'Hare' or 'Loop' neighborhoods by hour and weather condition ('bad' or 'good')\n",
    "6. [Conclusion(s) from Hypothesis Analysis](#hcomp)\n",
    "7. [Data Upload and PreProcessing](#data)\n",
    "8. [Exploratory Data Analysis II](#eda2)\n",
    "    * Identify ride trends by neighborhood\n",
    "9. [Hypothesis Test](#htest): \"The average duration of rides from Loop neighborhood to O'Hare International Airport changes on rainy Saturdays.\"\n",
    "10. [Conclusion(s)](#conclusion)\n"
   ]
  },
  {
   "cell_type": "markdown",
   "metadata": {},
   "source": [
    "## Background <a class=\"anchor\" id=\"background\"></a>\n",
    "\n"
   ]
  },
  {
   "cell_type": "markdown",
   "metadata": {},
   "source": [
    "Chicago, Illinois is the [third most populous city in the United States](https://www.census.gov/content/dam/Census/newsroom/releases/2017/cb17-81-table3-most-populous.pdf) behind New York City and Los Angeles with 2.7 million residents and hence, the [most populous city in the Midwest](https://www.chicagotribune.com/news/breaking/ct-census-illinois-cities-population-loss-20200608-elh5s7pq7vcjriqnlii6hyaiea-story.html). If Zuber would like presense in the Midwest, understanding the Chicago ecosystem is imperative. \n",
    "\n",
    "We can assume a close reflection of potential success for a ride-sharing company in Chicago is the city's current taxicab system for which there is public data available, especially as Chicago is [\"home of the nation's second largest cab industry\"](https://www.nytimes.com/2019/10/04/nyregion/taxi-medallions-chicago.html#:~:text=Only%20about%204%2C300%20of%20the,looking%20for%20a%20new%20job.) which in the 2000s reached 7,000 cabs at once. Chicago taxis are operated by private companies and licensed by the city's [Business Affairs and Consumer Protection](https://www.chicago.gov/city/en/depts/bacp/supp_info/medallion_owner_information.html) agency. Unlike other cities, Chicago taxis can be [any color](https://codelibrary.amlegal.com/codes/chicago/latest/chicago_il/0-0-0-2490014) (but matching their affiliated private company if not independent). \n",
    "\n",
    "Chicago is made up of multiple neighborhoods. A common trip expected will be between these two areas:\n",
    "* **O'Hare International Airport**: Any airport in a large city is expected to be popular, but this is not just any airport. Chicago's O'Hare International Airport is the [busiest airport in the United States](https://www.dallasnews.com/business/airlines/2019/02/05/there-s-a-new-no-1-in-the-nation-s-busiest-airports-rankings/) based on total flights carrying [374,351 passengers](https://www.flychicago.com/SiteCollectionDocuments/Business/FactAndFigures/AirTraffic/1117%20ORD%20SUMMARY.pdf) just in the November 2017 month alone. \n",
    "* **Loop Neighborhood**: Chicago's Loop Neighborhood is what many associate with Downtown Chicago. As per Choose Chicago (the city's official destination marketing association), Loop is [\"the heart of the city... bursting with iconic Chicago attractions, including historic architecture, river cruises, Millennium Park, the Chicago Riverwalk, a vibrant theatre district, incredible dining, shopping along State Street\"](https://www.choosechicago.com/neighborhoods/loop/)\n",
    "\n",
    "#### Unknown / Assumption\n",
    "\n",
    "What is unknown in our analysis is what is Zuber's business model? As requested, we will be looking at particular taxi cab companies but it is unclear if it is to model Zuber after (copy), partner with them, or recruit their drivers. Assumingly, Zuber is looking to recruit their drivers as other ride-sharing companies do"
   ]
  },
  {
   "cell_type": "markdown",
   "metadata": {},
   "source": [
    "## Conclusion from Exploratory Data Analysis I <a class=\"anchor\" id=\"eda1\"></a>"
   ]
  },
  {
   "cell_type": "markdown",
   "metadata": {},
   "source": [
    "I completed the three specific tasks requested (as outlined in the [Agenda](#agenda) section) through the use of SQL queries against a database outside this notebook. This is what was found:\n",
    "* After taking a sample of two days (11/15/17 - 11/16/17), the **2 most successful companies (based on trip count) are 'Flash Cab' and 'Taxi Affiliate Service'**.\n",
    "* If we look at these two companies over a full week (11/1/17 - 11/7/17), **'Flash Cab' and 'Taxi Affiliation Services' combined make up 23.24% of all trips within a week** despite there being a total of 64 companies. ('Flash Cab' has ~15% of all trips while 'Taxi Affiliation Services' has ~8%)\n",
    "* As mentioned, Chicago's taxis could be any color but we can see companies brand themselves around colors that help recognition. **If we look at trips from companies that use either the word 'Yellow' or the word 'Blue' in their name, companies with 'Yellow' executed 72% of such trips** after looking at data for a full week (11/1/17-11/7/17). The strategy of associating with the color yellow, a common taxi color in other cities, seems successful. As a matter of fact, it was in Chicago that the tradition of yellow cabs originated. The ['Yellow Cab Company'](https://yellowcabchicago.com/about-us/) founded in 1907 in Chicago is North America's oldest and largest taxicab company. Its founder John Hertz [\"got the idea for the color from a study by a local university that found that yellow with a touch of red was the most visible color over greater distances\"](https://time.com/4640097/yellow-taxi-cabs-history/). John Hertz would continue his streak. He is perhaps best known for [purchasing Chicago-based Rent-A-Car in 1923 (only 5 years old then after being founded in 1918)](https://www.hertz.com/blog/automotive/how-22-year-old-with-12-modelt-ts-created-hertz) which immediately renamed to 'Hertz Drive-Ur-Self System' and it is now the publicly traded company 'The Hertz Corporation'.\n",
    "\n",
    "\n",
    "**Additional Background Notes post EDA I**: \n",
    "* Cabs from 'Taxi Affiliation Services' (TAS) are assumingly yellow as the company was established in 2006 by some of Yellow Cab's directors post-bankrupcy with the goal of taking on the business and render 'Yellow Cab' insolvent [(Source)](https://cookcountyrecord.com/stories/511382483-yellow-cab-bankruptcy-trustee-alleges-company-officials-tried-to-foil-suit-judgment-officials-vehemently-deny). In addition, a 2012 lawsuit from taxi plaintiffs (including TAS) against Uber Technologies, Inc identified TAS as part of the 'Yellow Group' [(Source)](https://docs.justia.com/cases/federal/district-courts/illinois/ilndce/1:2012cv07967/275001/1)\n",
    "* \"Flash Cab\" taxis are white and blue as per [its website](https://flashcab.com/).\n"
   ]
  },
  {
   "cell_type": "markdown",
   "metadata": {},
   "source": [
    "## Conclusion from Hypothesis Analysis <a class=\"anchor\" id=\"hcomp\"></a>"
   ]
  },
  {
   "cell_type": "markdown",
   "metadata": {},
   "source": [
    "I completed the three specific tasks requested (as outlined in the [Agenda](#agenda) section) through the use of SQL queries against a database outside this notebook. Below is the conclusion:\n",
    "\n",
    "In testing the hypothesis that **\"the duration of rides from the Loop to O'Hare International Airport changes on rainy Saturdays\"**, I confirmed this is a true statement based on observations from November 2017 (as available). The average trip duration on Saturdays with 'bad' weather (rain or storm) is ~ 40 minutes (2427.21 seconds) while the average trip duration on 'good' weather days is ~33 minutes (1999.68 seconds). Hence, **the same Saturday trip from the Loop to O'Hare is ~7 minutes longer (427.53 seconds) when there is 'bad' weather compared to 'good' weather days**.\n",
    "\n",
    "*Note: At this point, I can't recommend business action on this finding as I have not confirmed if the difference observed is statistically significant.*"
   ]
  },
  {
   "cell_type": "markdown",
   "metadata": {},
   "source": [
    "## Data Upload and PreProcessing <a class=\"anchor\" id=\"data\"></a>"
   ]
  },
  {
   "cell_type": "code",
   "execution_count": 1,
   "metadata": {},
   "outputs": [],
   "source": [
    "import pandas as pd\n",
    "import numpy as mp\n",
    "import seaborn as sns\n",
    "import matplotlib.pyplot as plt\n",
    "from scipy import stats as st\n",
    "from scipy.stats import levene"
   ]
  },
  {
   "cell_type": "code",
   "execution_count": 2,
   "metadata": {},
   "outputs": [],
   "source": [
    "companies = pd.read_csv('./project_sql_result_01.csv')\n",
    "dropoffs = pd.read_csv('./project_sql_result_04.csv')\n",
    "loop_ohare = pd.read_csv('./project_sql_result_07.csv')"
   ]
  },
  {
   "cell_type": "markdown",
   "metadata": {},
   "source": [
    "**Companies**"
   ]
  },
  {
   "cell_type": "code",
   "execution_count": 3,
   "metadata": {
    "scrolled": true
   },
   "outputs": [
    {
     "name": "stdout",
     "output_type": "stream",
     "text": [
      "<class 'pandas.core.frame.DataFrame'>\n",
      "RangeIndex: 64 entries, 0 to 63\n",
      "Data columns (total 2 columns):\n",
      "company_name    64 non-null object\n",
      "trips_amount    64 non-null int64\n",
      "dtypes: int64(1), object(1)\n",
      "memory usage: 1.1+ KB\n"
     ]
    }
   ],
   "source": [
    "companies.info()"
   ]
  },
  {
   "cell_type": "markdown",
   "metadata": {},
   "source": [
    "Correct data types"
   ]
  },
  {
   "cell_type": "code",
   "execution_count": 4,
   "metadata": {
    "scrolled": true
   },
   "outputs": [
    {
     "data": {
      "text/plain": [
       "company_name    0\n",
       "trips_amount    0\n",
       "dtype: int64"
      ]
     },
     "execution_count": 4,
     "metadata": {},
     "output_type": "execute_result"
    }
   ],
   "source": [
    "companies.isna().sum()"
   ]
  },
  {
   "cell_type": "markdown",
   "metadata": {},
   "source": [
    "No nulls"
   ]
  },
  {
   "cell_type": "code",
   "execution_count": 5,
   "metadata": {
    "scrolled": true
   },
   "outputs": [
    {
     "data": {
      "text/plain": [
       "True"
      ]
     },
     "execution_count": 5,
     "metadata": {},
     "output_type": "execute_result"
    }
   ],
   "source": [
    "# is there one line by company?\n",
    "companies['company_name'].nunique() == len(companies)"
   ]
  },
  {
   "cell_type": "markdown",
   "metadata": {},
   "source": [
    "1 line per company. 64 companies represented"
   ]
  },
  {
   "cell_type": "code",
   "execution_count": 6,
   "metadata": {
    "scrolled": false
   },
   "outputs": [
    {
     "data": {
      "text/html": [
       "<div>\n",
       "<style scoped>\n",
       "    .dataframe tbody tr th:only-of-type {\n",
       "        vertical-align: middle;\n",
       "    }\n",
       "\n",
       "    .dataframe tbody tr th {\n",
       "        vertical-align: top;\n",
       "    }\n",
       "\n",
       "    .dataframe thead th {\n",
       "        text-align: right;\n",
       "    }\n",
       "</style>\n",
       "<table border=\"1\" class=\"dataframe\">\n",
       "  <thead>\n",
       "    <tr style=\"text-align: right;\">\n",
       "      <th></th>\n",
       "      <th>company_name</th>\n",
       "      <th>trips_amount</th>\n",
       "    </tr>\n",
       "  </thead>\n",
       "  <tbody>\n",
       "    <tr>\n",
       "      <td>0</td>\n",
       "      <td>Flash Cab</td>\n",
       "      <td>19558</td>\n",
       "    </tr>\n",
       "    <tr>\n",
       "      <td>1</td>\n",
       "      <td>Taxi Affiliation Services</td>\n",
       "      <td>11422</td>\n",
       "    </tr>\n",
       "    <tr>\n",
       "      <td>2</td>\n",
       "      <td>Medallion Leasin</td>\n",
       "      <td>10367</td>\n",
       "    </tr>\n",
       "    <tr>\n",
       "      <td>3</td>\n",
       "      <td>Yellow Cab</td>\n",
       "      <td>9888</td>\n",
       "    </tr>\n",
       "    <tr>\n",
       "      <td>4</td>\n",
       "      <td>Taxi Affiliation Service Yellow</td>\n",
       "      <td>9299</td>\n",
       "    </tr>\n",
       "  </tbody>\n",
       "</table>\n",
       "</div>"
      ],
      "text/plain": [
       "                      company_name  trips_amount\n",
       "0                        Flash Cab         19558\n",
       "1        Taxi Affiliation Services         11422\n",
       "2                 Medallion Leasin         10367\n",
       "3                       Yellow Cab          9888\n",
       "4  Taxi Affiliation Service Yellow          9299"
      ]
     },
     "execution_count": 6,
     "metadata": {},
     "output_type": "execute_result"
    }
   ],
   "source": [
    "companies.head()"
   ]
  },
  {
   "cell_type": "code",
   "execution_count": 7,
   "metadata": {
    "scrolled": true
   },
   "outputs": [
    {
     "data": {
      "text/plain": [
       "count       64.000000\n",
       "mean      2145.484375\n",
       "std       3812.310186\n",
       "min          2.000000\n",
       "25%         20.750000\n",
       "50%        178.500000\n",
       "75%       2106.500000\n",
       "max      19558.000000\n",
       "Name: trips_amount, dtype: float64"
      ]
     },
     "execution_count": 7,
     "metadata": {},
     "output_type": "execute_result"
    }
   ],
   "source": [
    "companies['trips_amount'].describe()"
   ]
  },
  {
   "cell_type": "code",
   "execution_count": 8,
   "metadata": {
    "scrolled": false
   },
   "outputs": [
    {
     "data": {
      "image/png": "[encoded data removed]",
      "text/plain": [
       "<Figure size 432x288 with 1 Axes>"
      ]
     },
     "metadata": {
      "needs_background": "light"
     },
     "output_type": "display_data"
    }
   ],
   "source": [
    "companies['trips_amount'].hist().set_title('Distribution of Number of Trips per Company')\n",
    "plt.xlabel(\"Number of Trips\")\n",
    "plt.ylabel(\"Number of Companies\");"
   ]
  },
  {
   "cell_type": "markdown",
   "metadata": {},
   "source": [
    "Over 75% companies have less than 2,106 trips. There are some outliers above that reaching up to 19558 trips."
   ]
  },
  {
   "cell_type": "markdown",
   "metadata": {},
   "source": [
    "**Dropoffs**"
   ]
  },
  {
   "cell_type": "code",
   "execution_count": 9,
   "metadata": {
    "scrolled": true
   },
   "outputs": [
    {
     "name": "stdout",
     "output_type": "stream",
     "text": [
      "<class 'pandas.core.frame.DataFrame'>\n",
      "RangeIndex: 94 entries, 0 to 93\n",
      "Data columns (total 2 columns):\n",
      "dropoff_location_name    94 non-null object\n",
      "average_trips            94 non-null float64\n",
      "dtypes: float64(1), object(1)\n",
      "memory usage: 1.6+ KB\n"
     ]
    }
   ],
   "source": [
    "dropoffs.info()"
   ]
  },
  {
   "cell_type": "code",
   "execution_count": 10,
   "metadata": {
    "scrolled": true
   },
   "outputs": [
    {
     "data": {
      "text/plain": [
       "dropoff_location_name    0\n",
       "average_trips            0\n",
       "dtype: int64"
      ]
     },
     "execution_count": 10,
     "metadata": {},
     "output_type": "execute_result"
    }
   ],
   "source": [
    "dropoffs.isna().sum()"
   ]
  },
  {
   "cell_type": "code",
   "execution_count": 11,
   "metadata": {
    "scrolled": false
   },
   "outputs": [
    {
     "data": {
      "text/html": [
       "<div>\n",
       "<style scoped>\n",
       "    .dataframe tbody tr th:only-of-type {\n",
       "        vertical-align: middle;\n",
       "    }\n",
       "\n",
       "    .dataframe tbody tr th {\n",
       "        vertical-align: top;\n",
       "    }\n",
       "\n",
       "    .dataframe thead th {\n",
       "        text-align: right;\n",
       "    }\n",
       "</style>\n",
       "<table border=\"1\" class=\"dataframe\">\n",
       "  <thead>\n",
       "    <tr style=\"text-align: right;\">\n",
       "      <th></th>\n",
       "      <th>dropoff_location_name</th>\n",
       "      <th>average_trips</th>\n",
       "    </tr>\n",
       "  </thead>\n",
       "  <tbody>\n",
       "    <tr>\n",
       "      <td>0</td>\n",
       "      <td>Loop</td>\n",
       "      <td>10727.466667</td>\n",
       "    </tr>\n",
       "    <tr>\n",
       "      <td>1</td>\n",
       "      <td>River North</td>\n",
       "      <td>9523.666667</td>\n",
       "    </tr>\n",
       "    <tr>\n",
       "      <td>2</td>\n",
       "      <td>Streeterville</td>\n",
       "      <td>6664.666667</td>\n",
       "    </tr>\n",
       "    <tr>\n",
       "      <td>3</td>\n",
       "      <td>West Loop</td>\n",
       "      <td>5163.666667</td>\n",
       "    </tr>\n",
       "    <tr>\n",
       "      <td>4</td>\n",
       "      <td>O'Hare</td>\n",
       "      <td>2546.900000</td>\n",
       "    </tr>\n",
       "  </tbody>\n",
       "</table>\n",
       "</div>"
      ],
      "text/plain": [
       "  dropoff_location_name  average_trips\n",
       "0                  Loop   10727.466667\n",
       "1           River North    9523.666667\n",
       "2         Streeterville    6664.666667\n",
       "3             West Loop    5163.666667\n",
       "4                O'Hare    2546.900000"
      ]
     },
     "execution_count": 11,
     "metadata": {},
     "output_type": "execute_result"
    }
   ],
   "source": [
    "dropoffs.head()"
   ]
  },
  {
   "cell_type": "code",
   "execution_count": 12,
   "metadata": {},
   "outputs": [
    {
     "data": {
      "text/plain": [
       "True"
      ]
     },
     "execution_count": 12,
     "metadata": {},
     "output_type": "execute_result"
    }
   ],
   "source": [
    "# is there one line by dropoff location?\n",
    "dropoffs['dropoff_location_name'].nunique() == len(dropoffs)"
   ]
  },
  {
   "cell_type": "code",
   "execution_count": 13,
   "metadata": {},
   "outputs": [
    {
     "data": {
      "text/plain": [
       "94"
      ]
     },
     "execution_count": 13,
     "metadata": {},
     "output_type": "execute_result"
    }
   ],
   "source": [
    "# number of dropoff locations\n",
    "len(dropoffs)"
   ]
  },
  {
   "cell_type": "markdown",
   "metadata": {},
   "source": [
    "This dataframe represents data for 94 dropoff points.\n",
    "\n",
    "No nulls but average trips is a float which should be an integer as it represented average numnber of trips. "
   ]
  },
  {
   "cell_type": "code",
   "execution_count": 14,
   "metadata": {},
   "outputs": [],
   "source": [
    "dropoffs['average_trips'] =  dropoffs['average_trips'].astype(int)"
   ]
  },
  {
   "cell_type": "code",
   "execution_count": 15,
   "metadata": {
    "scrolled": true
   },
   "outputs": [
    {
     "name": "stdout",
     "output_type": "stream",
     "text": [
      "<class 'pandas.core.frame.DataFrame'>\n",
      "RangeIndex: 94 entries, 0 to 93\n",
      "Data columns (total 2 columns):\n",
      "dropoff_location_name    94 non-null object\n",
      "average_trips            94 non-null int32\n",
      "dtypes: int32(1), object(1)\n",
      "memory usage: 1.2+ KB\n"
     ]
    }
   ],
   "source": [
    "dropoffs.info()"
   ]
  },
  {
   "cell_type": "markdown",
   "metadata": {},
   "source": [
    "Now average trips changed to integer"
   ]
  },
  {
   "cell_type": "code",
   "execution_count": 16,
   "metadata": {
    "scrolled": true
   },
   "outputs": [
    {
     "data": {
      "text/html": [
       "<div>\n",
       "<style scoped>\n",
       "    .dataframe tbody tr th:only-of-type {\n",
       "        vertical-align: middle;\n",
       "    }\n",
       "\n",
       "    .dataframe tbody tr th {\n",
       "        vertical-align: top;\n",
       "    }\n",
       "\n",
       "    .dataframe thead th {\n",
       "        text-align: right;\n",
       "    }\n",
       "</style>\n",
       "<table border=\"1\" class=\"dataframe\">\n",
       "  <thead>\n",
       "    <tr style=\"text-align: right;\">\n",
       "      <th></th>\n",
       "      <th>dropoff_location_name</th>\n",
       "      <th>average_trips</th>\n",
       "    </tr>\n",
       "  </thead>\n",
       "  <tbody>\n",
       "    <tr>\n",
       "      <td>0</td>\n",
       "      <td>Loop</td>\n",
       "      <td>10727</td>\n",
       "    </tr>\n",
       "    <tr>\n",
       "      <td>1</td>\n",
       "      <td>River North</td>\n",
       "      <td>9523</td>\n",
       "    </tr>\n",
       "    <tr>\n",
       "      <td>2</td>\n",
       "      <td>Streeterville</td>\n",
       "      <td>6664</td>\n",
       "    </tr>\n",
       "    <tr>\n",
       "      <td>3</td>\n",
       "      <td>West Loop</td>\n",
       "      <td>5163</td>\n",
       "    </tr>\n",
       "    <tr>\n",
       "      <td>4</td>\n",
       "      <td>O'Hare</td>\n",
       "      <td>2546</td>\n",
       "    </tr>\n",
       "  </tbody>\n",
       "</table>\n",
       "</div>"
      ],
      "text/plain": [
       "  dropoff_location_name  average_trips\n",
       "0                  Loop          10727\n",
       "1           River North           9523\n",
       "2         Streeterville           6664\n",
       "3             West Loop           5163\n",
       "4                O'Hare           2546"
      ]
     },
     "execution_count": 16,
     "metadata": {},
     "output_type": "execute_result"
    }
   ],
   "source": [
    "dropoffs.head()"
   ]
  },
  {
   "cell_type": "code",
   "execution_count": 17,
   "metadata": {
    "scrolled": true
   },
   "outputs": [
    {
     "data": {
      "text/plain": [
       "count       94.000000\n",
       "mean       599.478723\n",
       "std       1714.555974\n",
       "min          1.000000\n",
       "25%         14.000000\n",
       "50%         51.500000\n",
       "75%        298.750000\n",
       "max      10727.000000\n",
       "Name: average_trips, dtype: float64"
      ]
     },
     "execution_count": 17,
     "metadata": {},
     "output_type": "execute_result"
    }
   ],
   "source": [
    "dropoffs['average_trips'].describe()"
   ]
  },
  {
   "cell_type": "code",
   "execution_count": 18,
   "metadata": {},
   "outputs": [
    {
     "data": {
      "image/png": "[encoded data removed]",
      "text/plain": [
       "<Figure size 432x288 with 1 Axes>"
      ]
     },
     "metadata": {
      "needs_background": "light"
     },
     "output_type": "display_data"
    }
   ],
   "source": [
    "dropoffs['average_trips'].hist().set_title('Histogram - Number of Trips per Dropoff Location')\n",
    "plt.xlabel(\"Number of Trips\")\n",
    "plt.ylabel(\"Number of Dropoff Locations\");"
   ]
  },
  {
   "cell_type": "markdown",
   "metadata": {},
   "source": [
    "Over 75% dropoff locations have less than 298 trips. There are some outliers above that reaching up to 10727 trips."
   ]
  },
  {
   "cell_type": "code",
   "execution_count": 19,
   "metadata": {},
   "outputs": [
    {
     "data": {
      "text/plain": [
       "Index(['dropoff_location_name', 'average_trips'], dtype='object')"
      ]
     },
     "execution_count": 19,
     "metadata": {},
     "output_type": "execute_result"
    }
   ],
   "source": [
    "dropoffs.columns"
   ]
  },
  {
   "cell_type": "markdown",
   "metadata": {},
   "source": [
    "Average Trips is not an appropriate name for the column as it represents number of trips. I will call it trips_amount to match companies df"
   ]
  },
  {
   "cell_type": "code",
   "execution_count": 20,
   "metadata": {},
   "outputs": [],
   "source": [
    "dropoffs.rename(columns={\"average_trips\": \"trips_amount\"},inplace=True)"
   ]
  },
  {
   "cell_type": "code",
   "execution_count": 21,
   "metadata": {},
   "outputs": [
    {
     "name": "stdout",
     "output_type": "stream",
     "text": [
      "<class 'pandas.core.frame.DataFrame'>\n",
      "RangeIndex: 94 entries, 0 to 93\n",
      "Data columns (total 2 columns):\n",
      "dropoff_location_name    94 non-null object\n",
      "trips_amount             94 non-null int32\n",
      "dtypes: int32(1), object(1)\n",
      "memory usage: 1.2+ KB\n"
     ]
    }
   ],
   "source": [
    "dropoffs.info()"
   ]
  },
  {
   "cell_type": "markdown",
   "metadata": {},
   "source": [
    "**Loop-Ohare**"
   ]
  },
  {
   "cell_type": "code",
   "execution_count": 22,
   "metadata": {
    "scrolled": false
   },
   "outputs": [
    {
     "name": "stdout",
     "output_type": "stream",
     "text": [
      "<class 'pandas.core.frame.DataFrame'>\n",
      "RangeIndex: 1068 entries, 0 to 1067\n",
      "Data columns (total 3 columns):\n",
      "start_ts              1068 non-null object\n",
      "weather_conditions    1068 non-null object\n",
      "duration_seconds      1068 non-null float64\n",
      "dtypes: float64(1), object(2)\n",
      "memory usage: 25.2+ KB\n"
     ]
    }
   ],
   "source": [
    "loop_ohare.info()"
   ]
  },
  {
   "cell_type": "code",
   "execution_count": 23,
   "metadata": {},
   "outputs": [
    {
     "data": {
      "text/plain": [
       "start_ts              0\n",
       "weather_conditions    0\n",
       "duration_seconds      0\n",
       "dtype: int64"
      ]
     },
     "execution_count": 23,
     "metadata": {},
     "output_type": "execute_result"
    }
   ],
   "source": [
    "loop_ohare.isna().sum()"
   ]
  },
  {
   "cell_type": "code",
   "execution_count": 24,
   "metadata": {
    "scrolled": true
   },
   "outputs": [
    {
     "data": {
      "text/html": [
       "<div>\n",
       "<style scoped>\n",
       "    .dataframe tbody tr th:only-of-type {\n",
       "        vertical-align: middle;\n",
       "    }\n",
       "\n",
       "    .dataframe tbody tr th {\n",
       "        vertical-align: top;\n",
       "    }\n",
       "\n",
       "    .dataframe thead th {\n",
       "        text-align: right;\n",
       "    }\n",
       "</style>\n",
       "<table border=\"1\" class=\"dataframe\">\n",
       "  <thead>\n",
       "    <tr style=\"text-align: right;\">\n",
       "      <th></th>\n",
       "      <th>start_ts</th>\n",
       "      <th>weather_conditions</th>\n",
       "      <th>duration_seconds</th>\n",
       "    </tr>\n",
       "  </thead>\n",
       "  <tbody>\n",
       "    <tr>\n",
       "      <td>0</td>\n",
       "      <td>2017-11-25 16:00:00</td>\n",
       "      <td>Good</td>\n",
       "      <td>2410.0</td>\n",
       "    </tr>\n",
       "    <tr>\n",
       "      <td>1</td>\n",
       "      <td>2017-11-25 14:00:00</td>\n",
       "      <td>Good</td>\n",
       "      <td>1920.0</td>\n",
       "    </tr>\n",
       "    <tr>\n",
       "      <td>2</td>\n",
       "      <td>2017-11-25 12:00:00</td>\n",
       "      <td>Good</td>\n",
       "      <td>1543.0</td>\n",
       "    </tr>\n",
       "    <tr>\n",
       "      <td>3</td>\n",
       "      <td>2017-11-04 10:00:00</td>\n",
       "      <td>Good</td>\n",
       "      <td>2512.0</td>\n",
       "    </tr>\n",
       "    <tr>\n",
       "      <td>4</td>\n",
       "      <td>2017-11-11 07:00:00</td>\n",
       "      <td>Good</td>\n",
       "      <td>1440.0</td>\n",
       "    </tr>\n",
       "  </tbody>\n",
       "</table>\n",
       "</div>"
      ],
      "text/plain": [
       "              start_ts weather_conditions  duration_seconds\n",
       "0  2017-11-25 16:00:00               Good            2410.0\n",
       "1  2017-11-25 14:00:00               Good            1920.0\n",
       "2  2017-11-25 12:00:00               Good            1543.0\n",
       "3  2017-11-04 10:00:00               Good            2512.0\n",
       "4  2017-11-11 07:00:00               Good            1440.0"
      ]
     },
     "execution_count": 24,
     "metadata": {},
     "output_type": "execute_result"
    }
   ],
   "source": [
    "loop_ohare.head()"
   ]
  },
  {
   "cell_type": "markdown",
   "metadata": {},
   "source": [
    "No nulls. Duration seconds will changed to integer as rates in Chicago are [based on seconds](https://www.chicago.gov/city/en/depts/bacp/supp_info/2012_passenger_information.html) and the data is already in seconds. No need for partial."
   ]
  },
  {
   "cell_type": "code",
   "execution_count": 25,
   "metadata": {},
   "outputs": [],
   "source": [
    "loop_ohare['duration_seconds'] = loop_ohare['duration_seconds'].astype(int)"
   ]
  },
  {
   "cell_type": "code",
   "execution_count": 26,
   "metadata": {
    "scrolled": true
   },
   "outputs": [
    {
     "name": "stdout",
     "output_type": "stream",
     "text": [
      "<class 'pandas.core.frame.DataFrame'>\n",
      "RangeIndex: 1068 entries, 0 to 1067\n",
      "Data columns (total 3 columns):\n",
      "start_ts              1068 non-null object\n",
      "weather_conditions    1068 non-null object\n",
      "duration_seconds      1068 non-null int32\n",
      "dtypes: int32(1), object(2)\n",
      "memory usage: 21.0+ KB\n"
     ]
    }
   ],
   "source": [
    "loop_ohare.info()"
   ]
  },
  {
   "cell_type": "markdown",
   "metadata": {},
   "source": [
    "Duration seconds corrected to integer"
   ]
  },
  {
   "cell_type": "code",
   "execution_count": 27,
   "metadata": {},
   "outputs": [
    {
     "data": {
      "text/plain": [
       "False"
      ]
     },
     "execution_count": 27,
     "metadata": {},
     "output_type": "execute_result"
    }
   ],
   "source": [
    "#is start_ts distinct?\n",
    "\n",
    "len(loop_ohare) == loop_ohare['start_ts'].nunique()"
   ]
  },
  {
   "cell_type": "markdown",
   "metadata": {},
   "source": [
    "Oh Oh. Start_ts is not distinct. Further research is needed to understand what this data represents."
   ]
  },
  {
   "cell_type": "code",
   "execution_count": 28,
   "metadata": {
    "scrolled": false
   },
   "outputs": [
    {
     "data": {
      "text/plain": [
       "array(['Good', 'Bad'], dtype=object)"
      ]
     },
     "execution_count": 28,
     "metadata": {},
     "output_type": "execute_result"
    }
   ],
   "source": [
    "#What is in weather conditions? Expect good & bad only\n",
    "loop_ohare['weather_conditions'].unique()"
   ]
  },
  {
   "cell_type": "markdown",
   "metadata": {},
   "source": [
    "Now that we know correct two options. What is distribution?"
   ]
  },
  {
   "cell_type": "code",
   "execution_count": 29,
   "metadata": {
    "scrolled": false
   },
   "outputs": [
    {
     "data": {
      "text/plain": [
       "Good    0.831461\n",
       "Bad     0.168539\n",
       "Name: weather_conditions, dtype: float64"
      ]
     },
     "execution_count": 29,
     "metadata": {},
     "output_type": "execute_result"
    }
   ],
   "source": [
    "loop_ohare['weather_conditions'].value_counts(normalize=True)"
   ]
  },
  {
   "cell_type": "markdown",
   "metadata": {},
   "source": [
    "~83% of observations are for 'good' weather and ~17% are for 'bad' weather."
   ]
  },
  {
   "cell_type": "markdown",
   "metadata": {},
   "source": [
    "Let's change weather condition to category data type"
   ]
  },
  {
   "cell_type": "code",
   "execution_count": 30,
   "metadata": {},
   "outputs": [],
   "source": [
    "loop_ohare['weather_conditions'] = loop_ohare['weather_conditions'].astype(\"category\")"
   ]
  },
  {
   "cell_type": "code",
   "execution_count": 31,
   "metadata": {
    "scrolled": true
   },
   "outputs": [
    {
     "name": "stdout",
     "output_type": "stream",
     "text": [
      "<class 'pandas.core.frame.DataFrame'>\n",
      "RangeIndex: 1068 entries, 0 to 1067\n",
      "Data columns (total 3 columns):\n",
      "start_ts              1068 non-null object\n",
      "weather_conditions    1068 non-null category\n",
      "duration_seconds      1068 non-null int32\n",
      "dtypes: category(1), int32(1), object(1)\n",
      "memory usage: 13.8+ KB\n"
     ]
    }
   ],
   "source": [
    "loop_ohare.info()"
   ]
  },
  {
   "cell_type": "markdown",
   "metadata": {},
   "source": [
    "Weather conditions changed to category and confirmed."
   ]
  },
  {
   "cell_type": "markdown",
   "metadata": {},
   "source": [
    "Let's make start_ts a timestamp"
   ]
  },
  {
   "cell_type": "code",
   "execution_count": 32,
   "metadata": {
    "scrolled": true
   },
   "outputs": [
    {
     "data": {
      "text/html": [
       "<div>\n",
       "<style scoped>\n",
       "    .dataframe tbody tr th:only-of-type {\n",
       "        vertical-align: middle;\n",
       "    }\n",
       "\n",
       "    .dataframe tbody tr th {\n",
       "        vertical-align: top;\n",
       "    }\n",
       "\n",
       "    .dataframe thead th {\n",
       "        text-align: right;\n",
       "    }\n",
       "</style>\n",
       "<table border=\"1\" class=\"dataframe\">\n",
       "  <thead>\n",
       "    <tr style=\"text-align: right;\">\n",
       "      <th></th>\n",
       "      <th>start_ts</th>\n",
       "      <th>weather_conditions</th>\n",
       "      <th>duration_seconds</th>\n",
       "    </tr>\n",
       "  </thead>\n",
       "  <tbody>\n",
       "    <tr>\n",
       "      <td>0</td>\n",
       "      <td>2017-11-25 16:00:00</td>\n",
       "      <td>Good</td>\n",
       "      <td>2410</td>\n",
       "    </tr>\n",
       "  </tbody>\n",
       "</table>\n",
       "</div>"
      ],
      "text/plain": [
       "              start_ts weather_conditions  duration_seconds\n",
       "0  2017-11-25 16:00:00               Good              2410"
      ]
     },
     "execution_count": 32,
     "metadata": {},
     "output_type": "execute_result"
    }
   ],
   "source": [
    "loop_ohare.head(1)"
   ]
  },
  {
   "cell_type": "code",
   "execution_count": 33,
   "metadata": {},
   "outputs": [],
   "source": [
    "loop_ohare['start_ts'] = pd.to_datetime(loop_ohare['start_ts'])"
   ]
  },
  {
   "cell_type": "code",
   "execution_count": 34,
   "metadata": {
    "scrolled": true
   },
   "outputs": [
    {
     "name": "stdout",
     "output_type": "stream",
     "text": [
      "<class 'pandas.core.frame.DataFrame'>\n",
      "RangeIndex: 1068 entries, 0 to 1067\n",
      "Data columns (total 3 columns):\n",
      "start_ts              1068 non-null datetime64[ns]\n",
      "weather_conditions    1068 non-null category\n",
      "duration_seconds      1068 non-null int32\n",
      "dtypes: category(1), datetime64[ns](1), int32(1)\n",
      "memory usage: 13.8 KB\n"
     ]
    }
   ],
   "source": [
    "loop_ohare.info()"
   ]
  },
  {
   "cell_type": "markdown",
   "metadata": {},
   "source": [
    "All data types correct now."
   ]
  },
  {
   "cell_type": "markdown",
   "metadata": {},
   "source": [
    "Before moving on, let's confirm what is/not represented by the loop_ohare. "
   ]
  },
  {
   "cell_type": "code",
   "execution_count": 35,
   "metadata": {
    "scrolled": true
   },
   "outputs": [
    {
     "data": {
      "text/plain": [
       "2017-11-11 10:00:00    48\n",
       "2017-11-04 14:00:00    46\n",
       "2017-11-04 12:00:00    46\n",
       "2017-11-11 06:00:00    45\n",
       "2017-11-11 08:00:00    43\n",
       "Name: start_ts, dtype: int64"
      ]
     },
     "execution_count": 35,
     "metadata": {},
     "output_type": "execute_result"
    }
   ],
   "source": [
    "loop_ohare['start_ts'].value_counts().sort_values(ascending=False).head()"
   ]
  },
  {
   "cell_type": "markdown",
   "metadata": {},
   "source": [
    "It seems that for each timestamp there are many lines so now we can confirm loops_ohare df has one one line per trip and characteristics for that trip (weather and duration in seconds). No unique identifier per trip besides index."
   ]
  },
  {
   "cell_type": "code",
   "execution_count": 36,
   "metadata": {},
   "outputs": [
    {
     "data": {
      "text/plain": [
       "count    1068.000000\n",
       "mean     2071.731273\n",
       "std       769.461125\n",
       "min         0.000000\n",
       "25%      1438.250000\n",
       "50%      1980.000000\n",
       "75%      2580.000000\n",
       "max      7440.000000\n",
       "Name: duration_seconds, dtype: float64"
      ]
     },
     "execution_count": 36,
     "metadata": {},
     "output_type": "execute_result"
    }
   ],
   "source": [
    "loop_ohare['duration_seconds'].describe()"
   ]
  },
  {
   "cell_type": "code",
   "execution_count": 37,
   "metadata": {
    "scrolled": true
   },
   "outputs": [
    {
     "data": {
      "image/png": "[encoded data removed]",
      "text/plain": [
       "<Figure size 432x288 with 1 Axes>"
      ]
     },
     "metadata": {
      "needs_background": "light"
     },
     "output_type": "display_data"
    }
   ],
   "source": [
    "loop_ohare['duration_seconds'].hist().set_title('Histogram - Trip Duration per Loop-Ohare Trip')\n",
    "plt.xlabel(\"Trip Duration (sec)\")\n",
    "plt.ylabel(\"Number of Loop-Ohare Trips\");"
   ]
  },
  {
   "cell_type": "markdown",
   "metadata": {},
   "source": [
    "Duration seconds has some outliers on the top end. "
   ]
  },
  {
   "cell_type": "markdown",
   "metadata": {},
   "source": [
    "## Exploratory Data Analysis II <a class=\"anchor\" id=\"eda2\"></a>"
   ]
  },
  {
   "cell_type": "markdown",
   "metadata": {},
   "source": [
    "**Instructions**\n",
    "\n",
    "In addition to the data you retrieved in the previous tasks, you've been given a second file. You now have these two CSVs:\n",
    "\n",
    "project_sql_result_01.csv. It contains the following data:\n",
    "* company_name: taxi company name\n",
    "* trips_amount: the number of rides for each taxi company on November 15-16, 2017.\n",
    "\n",
    "project_sql_result_04.csv. It contains the following data:\n",
    "* dropoff_location_name: Chicago neighborhoods where rides ended\n",
    "* average_trips: the average number of rides that ended in each neighborhood in November 2017.\n",
    "\n",
    "For these two datasets you now need to\n",
    "* import the files - refer to [Data Upload and Preprocessing step earlier](#data)\n",
    "* study the data they contain - refer to [Data Upload and Preprocessing step earlier](#data)\n",
    "* make sure the data types are correct\n",
    "* identify the top 10 neighborhoods in terms of drop-offs\n",
    "* make graphs: taxi companies and number of rides, top 10 neighborhoods by number of dropoffs\n",
    "* draw conclusions based on each graph and explain the results\n",
    "\n",
    "\n",
    "**Progress:** \n",
    "\n",
    "Now, these two dataframes already created and prepared in [Data Upload and Preprocessing step earlier](#data) and are saved in the \"companies\" and \"dropoffs\" variables."
   ]
  },
  {
   "cell_type": "markdown",
   "metadata": {},
   "source": [
    "**Make sure the data types are correct**"
   ]
  },
  {
   "cell_type": "code",
   "execution_count": 38,
   "metadata": {
    "scrolled": true
   },
   "outputs": [
    {
     "name": "stdout",
     "output_type": "stream",
     "text": [
      "<class 'pandas.core.frame.DataFrame'>\n",
      "RangeIndex: 64 entries, 0 to 63\n",
      "Data columns (total 2 columns):\n",
      "company_name    64 non-null object\n",
      "trips_amount    64 non-null int64\n",
      "dtypes: int64(1), object(1)\n",
      "memory usage: 1.1+ KB\n"
     ]
    }
   ],
   "source": [
    "companies.info()"
   ]
  },
  {
   "cell_type": "code",
   "execution_count": 39,
   "metadata": {
    "scrolled": true
   },
   "outputs": [
    {
     "name": "stdout",
     "output_type": "stream",
     "text": [
      "<class 'pandas.core.frame.DataFrame'>\n",
      "RangeIndex: 94 entries, 0 to 93\n",
      "Data columns (total 2 columns):\n",
      "dropoff_location_name    94 non-null object\n",
      "trips_amount             94 non-null int32\n",
      "dtypes: int32(1), object(1)\n",
      "memory usage: 1.2+ KB\n"
     ]
    }
   ],
   "source": [
    "dropoffs.info()"
   ]
  },
  {
   "cell_type": "markdown",
   "metadata": {},
   "source": [
    "All data types are correct."
   ]
  },
  {
   "cell_type": "markdown",
   "metadata": {},
   "source": [
    "**Identify the top 10 neighborhoods in terms of drop-offs**"
   ]
  },
  {
   "cell_type": "code",
   "execution_count": 40,
   "metadata": {
    "scrolled": false
   },
   "outputs": [
    {
     "data": {
      "text/plain": [
       "True"
      ]
     },
     "execution_count": 40,
     "metadata": {},
     "output_type": "execute_result"
    }
   ],
   "source": [
    "#reconfirm 1 line per dropoff location\n",
    "dropoffs['dropoff_location_name'].nunique() == len(dropoffs)"
   ]
  },
  {
   "cell_type": "markdown",
   "metadata": {},
   "source": [
    "We confirmed dropoffs contains one line per dropoff location but... Does dropoff location contain names of neighborhoods?"
   ]
  },
  {
   "cell_type": "code",
   "execution_count": 41,
   "metadata": {},
   "outputs": [
    {
     "data": {
      "text/plain": [
       "array(['Loop', 'River North', 'Streeterville', 'West Loop', \"O'Hare\",\n",
       "       'Lake View', 'Grant Park', 'Museum Campus', 'Gold Coast',\n",
       "       'Sheffield & DePaul', 'Lincoln Park', 'East Village',\n",
       "       'Little Italy, UIC', 'Uptown', 'Near South Side', 'Garfield Ridge',\n",
       "       'Logan Square', 'Edgewater', 'West Town', 'Old Town',\n",
       "       'Rush & Division', 'North Center', 'Lincoln Square', 'Rogers Park',\n",
       "       'West Ridge', 'Irving Park', 'Hyde Park', 'Avondale',\n",
       "       'Wicker Park', 'Albany Park', 'United Center', 'Lower West Side',\n",
       "       'Douglas', 'Portage Park', 'Humboldt Park', 'Norwood Park',\n",
       "       'Kenwood', 'Bridgeport', 'Armour Square', 'Jefferson Park',\n",
       "       'Bucktown', 'North Park', 'Garfield Park', 'Mckinley Park',\n",
       "       'Belmont Cragin', 'Boystown', 'Chinatown', 'Grand Boulevard',\n",
       "       'Austin', 'Sauganash,Forest Glen', 'South Shore', 'Woodlawn',\n",
       "       'Little Village', 'Jackson Park', 'North Lawndale', 'Dunning',\n",
       "       'Ukrainian Village', 'Hermosa', 'Englewood', 'Chatham', 'New City',\n",
       "       'Grand Crossing', 'Brighton Park', 'Andersonville', 'Oakland',\n",
       "       'Ashburn', 'Washington Park', 'Auburn Gresham', 'Clearing',\n",
       "       'Roseland', 'Wrigleyville', 'Edison Park', 'South Chicago',\n",
       "       'Chicago Lawn', 'Beverly', 'Calumet Heights', 'Washington Heights',\n",
       "       'Archer Heights', 'Gage Park', 'Fuller Park', 'West Lawn',\n",
       "       'Morgan Park', 'South Deering', 'Avalon Park', 'West Pullman',\n",
       "       'Montclare', 'West Elsdon', 'Pullman', 'Undef', 'Mount Greenwood',\n",
       "       'Hegewisch', 'Burnside', 'East Side', 'Riverdale'], dtype=object)"
      ]
     },
     "execution_count": 41,
     "metadata": {},
     "output_type": "execute_result"
    }
   ],
   "source": [
    "dropoffs['dropoff_location_name'].unique() "
   ]
  },
  {
   "cell_type": "markdown",
   "metadata": {},
   "source": [
    "Yes, dropoff_location_name seems to be names of Chicago Neighborhoods. It is fitting to rename to clarify"
   ]
  },
  {
   "cell_type": "code",
   "execution_count": 42,
   "metadata": {},
   "outputs": [],
   "source": [
    "dropoffs.rename(columns={\"dropoff_location_name\": \"dropoff_neighborhood\"},inplace=True)"
   ]
  },
  {
   "cell_type": "code",
   "execution_count": 43,
   "metadata": {},
   "outputs": [
    {
     "name": "stdout",
     "output_type": "stream",
     "text": [
      "<class 'pandas.core.frame.DataFrame'>\n",
      "RangeIndex: 94 entries, 0 to 93\n",
      "Data columns (total 2 columns):\n",
      "dropoff_neighborhood    94 non-null object\n",
      "trips_amount            94 non-null int32\n",
      "dtypes: int32(1), object(1)\n",
      "memory usage: 1.2+ KB\n"
     ]
    }
   ],
   "source": [
    "# confirm rename\n",
    "dropoffs.info()"
   ]
  },
  {
   "cell_type": "code",
   "execution_count": 44,
   "metadata": {},
   "outputs": [
    {
     "data": {
      "text/html": [
       "<div>\n",
       "<style scoped>\n",
       "    .dataframe tbody tr th:only-of-type {\n",
       "        vertical-align: middle;\n",
       "    }\n",
       "\n",
       "    .dataframe tbody tr th {\n",
       "        vertical-align: top;\n",
       "    }\n",
       "\n",
       "    .dataframe thead th {\n",
       "        text-align: right;\n",
       "    }\n",
       "</style>\n",
       "<table border=\"1\" class=\"dataframe\">\n",
       "  <thead>\n",
       "    <tr style=\"text-align: right;\">\n",
       "      <th></th>\n",
       "      <th>dropoff_neighborhood</th>\n",
       "      <th>trips_amount</th>\n",
       "    </tr>\n",
       "  </thead>\n",
       "  <tbody>\n",
       "    <tr>\n",
       "      <td>0</td>\n",
       "      <td>Loop</td>\n",
       "      <td>10727</td>\n",
       "    </tr>\n",
       "    <tr>\n",
       "      <td>1</td>\n",
       "      <td>River North</td>\n",
       "      <td>9523</td>\n",
       "    </tr>\n",
       "    <tr>\n",
       "      <td>2</td>\n",
       "      <td>Streeterville</td>\n",
       "      <td>6664</td>\n",
       "    </tr>\n",
       "    <tr>\n",
       "      <td>3</td>\n",
       "      <td>West Loop</td>\n",
       "      <td>5163</td>\n",
       "    </tr>\n",
       "    <tr>\n",
       "      <td>4</td>\n",
       "      <td>O'Hare</td>\n",
       "      <td>2546</td>\n",
       "    </tr>\n",
       "    <tr>\n",
       "      <td>5</td>\n",
       "      <td>Lake View</td>\n",
       "      <td>2420</td>\n",
       "    </tr>\n",
       "    <tr>\n",
       "      <td>6</td>\n",
       "      <td>Grant Park</td>\n",
       "      <td>2068</td>\n",
       "    </tr>\n",
       "    <tr>\n",
       "      <td>7</td>\n",
       "      <td>Museum Campus</td>\n",
       "      <td>1510</td>\n",
       "    </tr>\n",
       "    <tr>\n",
       "      <td>8</td>\n",
       "      <td>Gold Coast</td>\n",
       "      <td>1364</td>\n",
       "    </tr>\n",
       "    <tr>\n",
       "      <td>9</td>\n",
       "      <td>Sheffield &amp; DePaul</td>\n",
       "      <td>1259</td>\n",
       "    </tr>\n",
       "  </tbody>\n",
       "</table>\n",
       "</div>"
      ],
      "text/plain": [
       "  dropoff_neighborhood  trips_amount\n",
       "0                 Loop         10727\n",
       "1          River North          9523\n",
       "2        Streeterville          6664\n",
       "3            West Loop          5163\n",
       "4               O'Hare          2546\n",
       "5            Lake View          2420\n",
       "6           Grant Park          2068\n",
       "7        Museum Campus          1510\n",
       "8           Gold Coast          1364\n",
       "9   Sheffield & DePaul          1259"
      ]
     },
     "execution_count": 44,
     "metadata": {},
     "output_type": "execute_result"
    }
   ],
   "source": [
    "dropoffs.sort_values(by=['trips_amount'], ascending=False).head(10)"
   ]
  },
  {
   "cell_type": "markdown",
   "metadata": {},
   "source": [
    "Above are the top 10 neighborhoods based on number of trips: Loop, River North, Streeterville, West Loop, O'Hare, Lake View, Grant Park, Museum Campud, Gold Coast, and Sheffield & De Paul."
   ]
  },
  {
   "cell_type": "markdown",
   "metadata": {},
   "source": [
    "**Make graphs I: top 10 neighborhoods by number of dropoffs (conclusions below graph)**"
   ]
  },
  {
   "cell_type": "code",
   "execution_count": 45,
   "metadata": {},
   "outputs": [
    {
     "data": {
      "text/plain": [
       "94"
      ]
     },
     "execution_count": 45,
     "metadata": {},
     "output_type": "execute_result"
    }
   ],
   "source": [
    "#How many neighborhoods?\n",
    "dropoffs['dropoff_neighborhood'].nunique()"
   ]
  },
  {
   "cell_type": "code",
   "execution_count": 46,
   "metadata": {},
   "outputs": [
    {
     "data": {
      "image/png": "[encoded data removed]",
      "text/plain": [
       "<Figure size 432x288 with 1 Axes>"
      ]
     },
     "metadata": {
      "needs_background": "light"
     },
     "output_type": "display_data"
    }
   ],
   "source": [
    "#Top 10 neighborhoods by number of dropoffs\n",
    "data = dropoffs.sort_values(by=['trips_amount'], ascending=False).head(10)\n",
    "sns.barplot(x=\"trips_amount\", y=\"dropoff_neighborhood\", data=data, color=\"Blue\").set_title('Top 10 Neighborhoods by Number of Dropoffs')\n",
    "plt.xlabel(\"Dropoffs\")\n",
    "plt.ylabel(\"Neighborhood\");"
   ]
  },
  {
   "cell_type": "markdown",
   "metadata": {},
   "source": [
    "Above are the top 10 neighborhoods by number of trips. It is clear there are some neighborhoods that are MUCH more popular based on dropoff trips (with Loop at the top being more that double the fourth). Upon a closer look at where these neighborhoods are actually located from [THIS MAP](https://www.choosechicago.com/neighborhoods/), a pattern becomes clear. The top 4 neighborhoods are adjacent. With Loop being the most popular, the next 3 neighborhoods surround it. We can conclude that **the most popular area for trips is in or around the Loop neighborhood** or the center of Downtown Chicago."
   ]
  },
  {
   "cell_type": "code",
   "execution_count": 47,
   "metadata": {},
   "outputs": [],
   "source": [
    "total_trips = dropoffs['trips_amount'].sum()\n",
    "dropoffs['% of total trips'] = dropoffs['trips_amount'] / total_trips"
   ]
  },
  {
   "cell_type": "code",
   "execution_count": 48,
   "metadata": {
    "scrolled": false
   },
   "outputs": [
    {
     "data": {
      "text/html": [
       "<div>\n",
       "<style scoped>\n",
       "    .dataframe tbody tr th:only-of-type {\n",
       "        vertical-align: middle;\n",
       "    }\n",
       "\n",
       "    .dataframe tbody tr th {\n",
       "        vertical-align: top;\n",
       "    }\n",
       "\n",
       "    .dataframe thead th {\n",
       "        text-align: right;\n",
       "    }\n",
       "</style>\n",
       "<table border=\"1\" class=\"dataframe\">\n",
       "  <thead>\n",
       "    <tr style=\"text-align: right;\">\n",
       "      <th></th>\n",
       "      <th>dropoff_neighborhood</th>\n",
       "      <th>trips_amount</th>\n",
       "      <th>% of total trips</th>\n",
       "    </tr>\n",
       "  </thead>\n",
       "  <tbody>\n",
       "    <tr>\n",
       "      <td>0</td>\n",
       "      <td>Loop</td>\n",
       "      <td>10727</td>\n",
       "      <td>0.190360</td>\n",
       "    </tr>\n",
       "    <tr>\n",
       "      <td>1</td>\n",
       "      <td>River North</td>\n",
       "      <td>9523</td>\n",
       "      <td>0.168994</td>\n",
       "    </tr>\n",
       "    <tr>\n",
       "      <td>2</td>\n",
       "      <td>Streeterville</td>\n",
       "      <td>6664</td>\n",
       "      <td>0.118259</td>\n",
       "    </tr>\n",
       "    <tr>\n",
       "      <td>3</td>\n",
       "      <td>West Loop</td>\n",
       "      <td>5163</td>\n",
       "      <td>0.091622</td>\n",
       "    </tr>\n",
       "    <tr>\n",
       "      <td>4</td>\n",
       "      <td>O'Hare</td>\n",
       "      <td>2546</td>\n",
       "      <td>0.045181</td>\n",
       "    </tr>\n",
       "    <tr>\n",
       "      <td>5</td>\n",
       "      <td>Lake View</td>\n",
       "      <td>2420</td>\n",
       "      <td>0.042945</td>\n",
       "    </tr>\n",
       "    <tr>\n",
       "      <td>6</td>\n",
       "      <td>Grant Park</td>\n",
       "      <td>2068</td>\n",
       "      <td>0.036699</td>\n",
       "    </tr>\n",
       "    <tr>\n",
       "      <td>7</td>\n",
       "      <td>Museum Campus</td>\n",
       "      <td>1510</td>\n",
       "      <td>0.026796</td>\n",
       "    </tr>\n",
       "    <tr>\n",
       "      <td>8</td>\n",
       "      <td>Gold Coast</td>\n",
       "      <td>1364</td>\n",
       "      <td>0.024205</td>\n",
       "    </tr>\n",
       "    <tr>\n",
       "      <td>9</td>\n",
       "      <td>Sheffield &amp; DePaul</td>\n",
       "      <td>1259</td>\n",
       "      <td>0.022342</td>\n",
       "    </tr>\n",
       "  </tbody>\n",
       "</table>\n",
       "</div>"
      ],
      "text/plain": [
       "  dropoff_neighborhood  trips_amount  % of total trips\n",
       "0                 Loop         10727          0.190360\n",
       "1          River North          9523          0.168994\n",
       "2        Streeterville          6664          0.118259\n",
       "3            West Loop          5163          0.091622\n",
       "4               O'Hare          2546          0.045181\n",
       "5            Lake View          2420          0.042945\n",
       "6           Grant Park          2068          0.036699\n",
       "7        Museum Campus          1510          0.026796\n",
       "8           Gold Coast          1364          0.024205\n",
       "9   Sheffield & DePaul          1259          0.022342"
      ]
     },
     "execution_count": 48,
     "metadata": {},
     "output_type": "execute_result"
    }
   ],
   "source": [
    "dropoffs.sort_values(by=['% of total trips'], ascending=False).head(10)"
   ]
  },
  {
   "cell_type": "code",
   "execution_count": 49,
   "metadata": {},
   "outputs": [
    {
     "data": {
      "text/plain": [
       "0.5692356834838779"
      ]
     },
     "execution_count": 49,
     "metadata": {},
     "output_type": "execute_result"
    }
   ],
   "source": [
    "# Sum of first 4 rows\n",
    "dropoffs.iloc[0:4]['% of total trips'].sum()"
   ]
  },
  {
   "cell_type": "markdown",
   "metadata": {},
   "source": [
    "The top 4 neighborhoods which are in or around Loop make up ~57% of the total trips (and there are potentially more neighborhoods we can attribute to the Loop surrounding area making this bigger). This small area is serviced well by cab services, but in such a populous city... **are the areas not surrounding Loop being serviced well?**. Zuber could go head to head with cab companies (or partner with them) in the Loop area but there might be an even better **opportunity in such a populous city servicing outside the Loop area**."
   ]
  },
  {
   "cell_type": "markdown",
   "metadata": {},
   "source": [
    "**Make graphs II: taxi companies and number of rides (conclusions below graph)**"
   ]
  },
  {
   "cell_type": "code",
   "execution_count": 50,
   "metadata": {},
   "outputs": [
    {
     "data": {
      "text/plain": [
       "64"
      ]
     },
     "execution_count": 50,
     "metadata": {},
     "output_type": "execute_result"
    }
   ],
   "source": [
    "#How many companies?\n",
    "companies['company_name'].nunique()"
   ]
  },
  {
   "cell_type": "code",
   "execution_count": 51,
   "metadata": {},
   "outputs": [
    {
     "data": {
      "image/png": "[encoded data removed]",
      "text/plain": [
       "<Figure size 432x288 with 1 Axes>"
      ]
     },
     "metadata": {
      "needs_background": "light"
     },
     "output_type": "display_data"
    }
   ],
   "source": [
    "#Top 10 companies by number of dropoffs\n",
    "data = companies.sort_values(by=['trips_amount'], ascending=False).head(10)\n",
    "sns.barplot(x=\"trips_amount\", y=\"company_name\", data=data, color=\"Green\").set_title('Top 10 Companies by Number of Dropoffs')\n",
    "plt.xlabel(\"Dropoffs\")\n",
    "plt.ylabel(\"Company\");"
   ]
  },
  {
   "cell_type": "markdown",
   "metadata": {},
   "source": [
    "Flash Cab is BY FAR the most popular cab company, almost double the next one. "
   ]
  },
  {
   "cell_type": "code",
   "execution_count": 52,
   "metadata": {},
   "outputs": [],
   "source": [
    "total_trips = companies['trips_amount'].sum()\n",
    "companies['% of total trips'] = companies['trips_amount'] / total_trips"
   ]
  },
  {
   "cell_type": "code",
   "execution_count": 53,
   "metadata": {
    "scrolled": true
   },
   "outputs": [
    {
     "data": {
      "text/html": [
       "<div>\n",
       "<style scoped>\n",
       "    .dataframe tbody tr th:only-of-type {\n",
       "        vertical-align: middle;\n",
       "    }\n",
       "\n",
       "    .dataframe tbody tr th {\n",
       "        vertical-align: top;\n",
       "    }\n",
       "\n",
       "    .dataframe thead th {\n",
       "        text-align: right;\n",
       "    }\n",
       "</style>\n",
       "<table border=\"1\" class=\"dataframe\">\n",
       "  <thead>\n",
       "    <tr style=\"text-align: right;\">\n",
       "      <th></th>\n",
       "      <th>company_name</th>\n",
       "      <th>trips_amount</th>\n",
       "      <th>% of total trips</th>\n",
       "    </tr>\n",
       "  </thead>\n",
       "  <tbody>\n",
       "    <tr>\n",
       "      <td>0</td>\n",
       "      <td>Flash Cab</td>\n",
       "      <td>19558</td>\n",
       "      <td>0.142436</td>\n",
       "    </tr>\n",
       "    <tr>\n",
       "      <td>1</td>\n",
       "      <td>Taxi Affiliation Services</td>\n",
       "      <td>11422</td>\n",
       "      <td>0.083183</td>\n",
       "    </tr>\n",
       "    <tr>\n",
       "      <td>2</td>\n",
       "      <td>Medallion Leasin</td>\n",
       "      <td>10367</td>\n",
       "      <td>0.075500</td>\n",
       "    </tr>\n",
       "    <tr>\n",
       "      <td>3</td>\n",
       "      <td>Yellow Cab</td>\n",
       "      <td>9888</td>\n",
       "      <td>0.072012</td>\n",
       "    </tr>\n",
       "    <tr>\n",
       "      <td>4</td>\n",
       "      <td>Taxi Affiliation Service Yellow</td>\n",
       "      <td>9299</td>\n",
       "      <td>0.067722</td>\n",
       "    </tr>\n",
       "    <tr>\n",
       "      <td>5</td>\n",
       "      <td>Chicago Carriage Cab Corp</td>\n",
       "      <td>9181</td>\n",
       "      <td>0.066863</td>\n",
       "    </tr>\n",
       "    <tr>\n",
       "      <td>6</td>\n",
       "      <td>City Service</td>\n",
       "      <td>8448</td>\n",
       "      <td>0.061525</td>\n",
       "    </tr>\n",
       "    <tr>\n",
       "      <td>7</td>\n",
       "      <td>Sun Taxi</td>\n",
       "      <td>7701</td>\n",
       "      <td>0.056084</td>\n",
       "    </tr>\n",
       "    <tr>\n",
       "      <td>8</td>\n",
       "      <td>Star North Management LLC</td>\n",
       "      <td>7455</td>\n",
       "      <td>0.054293</td>\n",
       "    </tr>\n",
       "    <tr>\n",
       "      <td>9</td>\n",
       "      <td>Blue Ribbon Taxi Association Inc.</td>\n",
       "      <td>5953</td>\n",
       "      <td>0.043354</td>\n",
       "    </tr>\n",
       "  </tbody>\n",
       "</table>\n",
       "</div>"
      ],
      "text/plain": [
       "                        company_name  trips_amount  % of total trips\n",
       "0                          Flash Cab         19558          0.142436\n",
       "1          Taxi Affiliation Services         11422          0.083183\n",
       "2                   Medallion Leasin         10367          0.075500\n",
       "3                         Yellow Cab          9888          0.072012\n",
       "4    Taxi Affiliation Service Yellow          9299          0.067722\n",
       "5          Chicago Carriage Cab Corp          9181          0.066863\n",
       "6                       City Service          8448          0.061525\n",
       "7                           Sun Taxi          7701          0.056084\n",
       "8          Star North Management LLC          7455          0.054293\n",
       "9  Blue Ribbon Taxi Association Inc.          5953          0.043354"
      ]
     },
     "execution_count": 53,
     "metadata": {},
     "output_type": "execute_result"
    }
   ],
   "source": [
    "companies.sort_values(by=['% of total trips'], ascending=False).head(10)"
   ]
  },
  {
   "cell_type": "code",
   "execution_count": 54,
   "metadata": {},
   "outputs": [
    {
     "data": {
      "text/plain": [
       "0.14243578446009425"
      ]
     },
     "execution_count": 54,
     "metadata": {},
     "output_type": "execute_result"
    }
   ],
   "source": [
    "companies.loc[0]['% of total trips']"
   ]
  },
  {
   "cell_type": "markdown",
   "metadata": {},
   "source": [
    "It is clear **Flash Cab is the leader in this market. Zuber should partner with or model their service after Flash Cab.**. Without domain experience, it is hard for me to know exactly why/how they have reached this level of success. **Zuber should consider hiring a consultant with domain experience in the Chicago taxi sector to get a clear understanding of what differentiates Chicago taxi companies**. From a quick look at the Flash Cab website versus the next few companies, it is clear Flash Cab takes care of their brand and marketing with a robust site, app, distict cab colors (white/blue), and good user interface. Although this inclination may be true, I again reiterate this is not my domain. "
   ]
  },
  {
   "cell_type": "markdown",
   "metadata": {},
   "source": [
    "## Hypothesis Test <a class=\"anchor\" id=\"htest\"></a>"
   ]
  },
  {
   "cell_type": "markdown",
   "metadata": {},
   "source": [
    "**Instructions**\n",
    "\n",
    "project_sql_result_07.csv — the result of the last query. - **Now saved as 'loop_ohare' variable**. Refer to [Data Upload and Preprocessing step earlier](#data)\n",
    "\n",
    "It contains data on rides from the Loop to O'Hare International Airport. Remember, these are the table's field values:\n",
    "* start_ts\n",
    "    * pickup date and time\n",
    "* weather_conditions\n",
    "    * weather conditions at the moment the ride started\n",
    "* duration_seconds\n",
    "    * ride duration in seconds\n",
    "\n",
    "Test the hypothesis:\n",
    "\n",
    "**\"The average duration of rides from Loop neighborhood to O'Hare International Airport changes on rainy Saturdays.\"**\n",
    "\n",
    "Set the significance level (alpha) value independently.\n",
    "\n",
    "Explain:\n",
    "* how you formed the null and alternative hypotheses\n",
    "* what criterion you used to test the hypotheses and why\n"
   ]
  },
  {
   "cell_type": "code",
   "execution_count": 55,
   "metadata": {
    "scrolled": false
   },
   "outputs": [
    {
     "data": {
      "text/html": [
       "<div>\n",
       "<style scoped>\n",
       "    .dataframe tbody tr th:only-of-type {\n",
       "        vertical-align: middle;\n",
       "    }\n",
       "\n",
       "    .dataframe tbody tr th {\n",
       "        vertical-align: top;\n",
       "    }\n",
       "\n",
       "    .dataframe thead th {\n",
       "        text-align: right;\n",
       "    }\n",
       "</style>\n",
       "<table border=\"1\" class=\"dataframe\">\n",
       "  <thead>\n",
       "    <tr style=\"text-align: right;\">\n",
       "      <th></th>\n",
       "      <th>start_ts</th>\n",
       "      <th>weather_conditions</th>\n",
       "      <th>duration_seconds</th>\n",
       "    </tr>\n",
       "  </thead>\n",
       "  <tbody>\n",
       "    <tr>\n",
       "      <td>0</td>\n",
       "      <td>2017-11-25 16:00:00</td>\n",
       "      <td>Good</td>\n",
       "      <td>2410</td>\n",
       "    </tr>\n",
       "    <tr>\n",
       "      <td>1</td>\n",
       "      <td>2017-11-25 14:00:00</td>\n",
       "      <td>Good</td>\n",
       "      <td>1920</td>\n",
       "    </tr>\n",
       "    <tr>\n",
       "      <td>2</td>\n",
       "      <td>2017-11-25 12:00:00</td>\n",
       "      <td>Good</td>\n",
       "      <td>1543</td>\n",
       "    </tr>\n",
       "    <tr>\n",
       "      <td>3</td>\n",
       "      <td>2017-11-04 10:00:00</td>\n",
       "      <td>Good</td>\n",
       "      <td>2512</td>\n",
       "    </tr>\n",
       "    <tr>\n",
       "      <td>4</td>\n",
       "      <td>2017-11-11 07:00:00</td>\n",
       "      <td>Good</td>\n",
       "      <td>1440</td>\n",
       "    </tr>\n",
       "  </tbody>\n",
       "</table>\n",
       "</div>"
      ],
      "text/plain": [
       "             start_ts weather_conditions  duration_seconds\n",
       "0 2017-11-25 16:00:00               Good              2410\n",
       "1 2017-11-25 14:00:00               Good              1920\n",
       "2 2017-11-25 12:00:00               Good              1543\n",
       "3 2017-11-04 10:00:00               Good              2512\n",
       "4 2017-11-11 07:00:00               Good              1440"
      ]
     },
     "execution_count": 55,
     "metadata": {},
     "output_type": "execute_result"
    }
   ],
   "source": [
    "loop_ohare.head()"
   ]
  },
  {
   "cell_type": "code",
   "execution_count": 56,
   "metadata": {},
   "outputs": [
    {
     "name": "stdout",
     "output_type": "stream",
     "text": [
      "<class 'pandas.core.frame.DataFrame'>\n",
      "RangeIndex: 1068 entries, 0 to 1067\n",
      "Data columns (total 3 columns):\n",
      "start_ts              1068 non-null datetime64[ns]\n",
      "weather_conditions    1068 non-null category\n",
      "duration_seconds      1068 non-null int32\n",
      "dtypes: category(1), datetime64[ns](1), int32(1)\n",
      "memory usage: 13.8 KB\n"
     ]
    }
   ],
   "source": [
    "loop_ohare.info()"
   ]
  },
  {
   "cell_type": "code",
   "execution_count": 57,
   "metadata": {},
   "outputs": [
    {
     "data": {
      "text/plain": [
       "Good    0.831461\n",
       "Bad     0.168539\n",
       "Name: weather_conditions, dtype: float64"
      ]
     },
     "execution_count": 57,
     "metadata": {},
     "output_type": "execute_result"
    }
   ],
   "source": [
    "loop_ohare['weather_conditions'].value_counts(normalize=True)"
   ]
  },
  {
   "cell_type": "markdown",
   "metadata": {},
   "source": [
    "Most trips are on good weather but we have a decent amount of bad weather days (~17%) that will make this comparison worthwile."
   ]
  },
  {
   "cell_type": "markdown",
   "metadata": {},
   "source": [
    "Does data include only Saturdays?"
   ]
  },
  {
   "cell_type": "code",
   "execution_count": 58,
   "metadata": {
    "scrolled": false
   },
   "outputs": [
    {
     "data": {
      "text/html": [
       "<div>\n",
       "<style scoped>\n",
       "    .dataframe tbody tr th:only-of-type {\n",
       "        vertical-align: middle;\n",
       "    }\n",
       "\n",
       "    .dataframe tbody tr th {\n",
       "        vertical-align: top;\n",
       "    }\n",
       "\n",
       "    .dataframe thead th {\n",
       "        text-align: right;\n",
       "    }\n",
       "</style>\n",
       "<table border=\"1\" class=\"dataframe\">\n",
       "  <thead>\n",
       "    <tr style=\"text-align: right;\">\n",
       "      <th></th>\n",
       "      <th>start_ts</th>\n",
       "      <th>weather_conditions</th>\n",
       "      <th>duration_seconds</th>\n",
       "    </tr>\n",
       "  </thead>\n",
       "  <tbody>\n",
       "    <tr>\n",
       "      <td>0</td>\n",
       "      <td>2017-11-25 16:00:00</td>\n",
       "      <td>Good</td>\n",
       "      <td>2410</td>\n",
       "    </tr>\n",
       "  </tbody>\n",
       "</table>\n",
       "</div>"
      ],
      "text/plain": [
       "             start_ts weather_conditions  duration_seconds\n",
       "0 2017-11-25 16:00:00               Good              2410"
      ]
     },
     "execution_count": 58,
     "metadata": {},
     "output_type": "execute_result"
    }
   ],
   "source": [
    "loop_ohare.head(1)"
   ]
  },
  {
   "cell_type": "code",
   "execution_count": 59,
   "metadata": {
    "scrolled": true
   },
   "outputs": [
    {
     "name": "stdout",
     "output_type": "stream",
     "text": [
      "<class 'pandas.core.frame.DataFrame'>\n",
      "RangeIndex: 1068 entries, 0 to 1067\n",
      "Data columns (total 3 columns):\n",
      "start_ts              1068 non-null datetime64[ns]\n",
      "weather_conditions    1068 non-null category\n",
      "duration_seconds      1068 non-null int32\n",
      "dtypes: category(1), datetime64[ns](1), int32(1)\n",
      "memory usage: 13.8 KB\n"
     ]
    }
   ],
   "source": [
    "loop_ohare.info()"
   ]
  },
  {
   "cell_type": "code",
   "execution_count": 60,
   "metadata": {},
   "outputs": [],
   "source": [
    "loop_ohare['dow'] = loop_ohare['start_ts'].dt.dayofweek"
   ]
  },
  {
   "cell_type": "code",
   "execution_count": 61,
   "metadata": {},
   "outputs": [
    {
     "data": {
      "text/plain": [
       "5    1068\n",
       "Name: dow, dtype: int64"
      ]
     },
     "execution_count": 61,
     "metadata": {},
     "output_type": "execute_result"
    }
   ],
   "source": [
    "loop_ohare['dow'].value_counts()"
   ]
  },
  {
   "cell_type": "markdown",
   "metadata": {},
   "source": [
    "The dataset only contains day of week 5 and as per [documentation](https://pandas.pydata.org/pandas-docs/stable/reference/api/pandas.Series.dt.dayofweek.html), 5 represents Saturday. Hence, data already sliced for just Saturday confirmed"
   ]
  },
  {
   "cell_type": "markdown",
   "metadata": {},
   "source": [
    "Are there outliers? "
   ]
  },
  {
   "cell_type": "code",
   "execution_count": 62,
   "metadata": {},
   "outputs": [
    {
     "data": {
      "image/png": "[encoded data removed]",
      "text/plain": [
       "<Figure size 432x288 with 1 Axes>"
      ]
     },
     "metadata": {
      "needs_background": "light"
     },
     "output_type": "display_data"
    }
   ],
   "source": [
    "sns.boxplot(x=\"duration_seconds\", y=\"weather_conditions\", data=loop_ohare).set_title('Duration (sec) by Weather Condition')\n",
    "plt.xlabel(\"Duration in Seconds\")\n",
    "plt.ylabel(\"Weather Condition\");"
   ]
  },
  {
   "cell_type": "markdown",
   "metadata": {},
   "source": [
    "There are outliers! As hypothesis test uses averages, these outliers must be removed first. "
   ]
  },
  {
   "cell_type": "code",
   "execution_count": 63,
   "metadata": {
    "scrolled": true
   },
   "outputs": [
    {
     "name": "stdout",
     "output_type": "stream",
     "text": [
      "Good\n",
      "Good Q1:  1389.75\n",
      "Good Q3:  2460.0\n",
      "Good IQR:  1070.25\n"
     ]
    }
   ],
   "source": [
    "#Good Benchmarks\n",
    "condition = 'Good'\n",
    "good_Q1 = loop_ohare.loc[loop_ohare['weather_conditions'] == condition]['duration_seconds'].quantile(0.25)\n",
    "good_Q3 = loop_ohare.loc[loop_ohare['weather_conditions'] == condition]['duration_seconds'].quantile(0.75)\n",
    "good_IQR = good_Q3 - good_Q1\n",
    "print('Good')\n",
    "print('Good Q1: ', good_Q1)\n",
    "print('Good Q3: ', good_Q3)\n",
    "print('Good IQR: ', good_IQR)"
   ]
  },
  {
   "cell_type": "code",
   "execution_count": 64,
   "metadata": {},
   "outputs": [
    {
     "name": "stdout",
     "output_type": "stream",
     "text": [
      "min:  0\n",
      "max:  4065.375\n"
     ]
    }
   ],
   "source": [
    "good_bottom_cutoff = good_Q1 - (1.5*good_IQR)\n",
    "good_top_cutoff = good_Q3 + 1.5 * good_IQR\n",
    "if good_bottom_cutoff < 0:\n",
    "    good_bottom_cutoff = 0\n",
    "print('min: ',good_bottom_cutoff)\n",
    "print('max: ',good_top_cutoff)"
   ]
  },
  {
   "cell_type": "code",
   "execution_count": 65,
   "metadata": {},
   "outputs": [
    {
     "name": "stdout",
     "output_type": "stream",
     "text": [
      "Bad\n",
      "Bad Q1:  1962.0\n",
      "Bad Q3:  2928.0\n",
      "Bad IQR:  966.0\n"
     ]
    }
   ],
   "source": [
    "#Bad Benchmarks\n",
    "condition = 'Bad'\n",
    "bad_Q1 = loop_ohare.loc[loop_ohare['weather_conditions'] == condition]['duration_seconds'].quantile(0.25)\n",
    "bad_Q3 = loop_ohare.loc[loop_ohare['weather_conditions'] == condition]['duration_seconds'].quantile(0.75)\n",
    "bad_IQR = bad_Q3 - bad_Q1\n",
    "print('Bad')\n",
    "print('Bad Q1: ', bad_Q1)\n",
    "print('Bad Q3: ', bad_Q3)\n",
    "print('Bad IQR: ', bad_IQR)"
   ]
  },
  {
   "cell_type": "code",
   "execution_count": 66,
   "metadata": {},
   "outputs": [
    {
     "name": "stdout",
     "output_type": "stream",
     "text": [
      "min:  513.0\n",
      "max:  4377.0\n"
     ]
    }
   ],
   "source": [
    "bad_bottom_cutoff = bad_Q1 - (1.5*bad_IQR)\n",
    "bad_top_cutoff = bad_Q3 + 1.5 * bad_IQR\n",
    "if bad_bottom_cutoff < 0:\n",
    "    bad_bottom_cutoff = 0\n",
    "print('min: ',bad_bottom_cutoff)\n",
    "print('max: ',bad_top_cutoff)"
   ]
  },
  {
   "cell_type": "code",
   "execution_count": 67,
   "metadata": {},
   "outputs": [],
   "source": [
    "loop_ohare_without_outliers = loop_ohare.copy()"
   ]
  },
  {
   "cell_type": "code",
   "execution_count": 68,
   "metadata": {},
   "outputs": [],
   "source": [
    "# boolean to identify outliers to drop\n",
    "def outlier_drop (row):\n",
    "    condition = row['weather_conditions']\n",
    "    duration = row['duration_seconds']\n",
    "    if condition == 'Good':\n",
    "        if (duration < good_bottom_cutoff) or (duration > good_top_cutoff):\n",
    "            return 1\n",
    "        else:\n",
    "            return 0\n",
    "    else: #bad\n",
    "        if (duration < bad_bottom_cutoff) or (duration > bad_top_cutoff):\n",
    "            return 1\n",
    "        else:\n",
    "            return 0"
   ]
  },
  {
   "cell_type": "code",
   "execution_count": 69,
   "metadata": {},
   "outputs": [],
   "source": [
    "loop_ohare['drop?'] = loop_ohare.apply(outlier_drop, axis=1)"
   ]
  },
  {
   "cell_type": "code",
   "execution_count": 70,
   "metadata": {},
   "outputs": [
    {
     "data": {
      "text/plain": [
       "0    0.991573\n",
       "1    0.008427\n",
       "Name: drop?, dtype: float64"
      ]
     },
     "execution_count": 70,
     "metadata": {},
     "output_type": "execute_result"
    }
   ],
   "source": [
    "loop_ohare['drop?'].value_counts(normalize=True)"
   ]
  },
  {
   "cell_type": "markdown",
   "metadata": {},
   "source": [
    "Dropping 0.08% of data. Records with ['drop?] column as 1"
   ]
  },
  {
   "cell_type": "code",
   "execution_count": 71,
   "metadata": {},
   "outputs": [],
   "source": [
    "loop_ohare = loop_ohare.loc[loop_ohare['drop?']==0]"
   ]
  },
  {
   "cell_type": "markdown",
   "metadata": {},
   "source": [
    "Check if outliers present:"
   ]
  },
  {
   "cell_type": "code",
   "execution_count": 72,
   "metadata": {
    "scrolled": true
   },
   "outputs": [
    {
     "data": {
      "image/png": "[encoded data removed]",
      "text/plain": [
       "<Figure size 432x288 with 1 Axes>"
      ]
     },
     "metadata": {
      "needs_background": "light"
     },
     "output_type": "display_data"
    }
   ],
   "source": [
    "sns.boxplot(x=\"duration_seconds\", y=\"weather_conditions\", data=loop_ohare).set_title('Duration (sec) by Weather Condition')\n",
    "plt.xlabel(\"Duration in Seconds\")\n",
    "plt.ylabel(\"Weather Condition\");"
   ]
  },
  {
   "cell_type": "markdown",
   "metadata": {},
   "source": [
    "Now, no outliers. Proceeding with hypothesis test"
   ]
  },
  {
   "cell_type": "code",
   "execution_count": 73,
   "metadata": {},
   "outputs": [
    {
     "data": {
      "text/plain": [
       "Index(['start_ts', 'weather_conditions', 'duration_seconds', 'dow', 'drop?'], dtype='object')"
      ]
     },
     "execution_count": 73,
     "metadata": {},
     "output_type": "execute_result"
    }
   ],
   "source": [
    "#Remove extra columns\n",
    "loop_ohare.columns"
   ]
  },
  {
   "cell_type": "code",
   "execution_count": 74,
   "metadata": {},
   "outputs": [],
   "source": [
    "del loop_ohare['drop?']"
   ]
  },
  {
   "cell_type": "code",
   "execution_count": 75,
   "metadata": {},
   "outputs": [],
   "source": [
    "del loop_ohare['dow']"
   ]
  },
  {
   "cell_type": "code",
   "execution_count": 76,
   "metadata": {},
   "outputs": [
    {
     "data": {
      "text/plain": [
       "Index(['start_ts', 'weather_conditions', 'duration_seconds'], dtype='object')"
      ]
     },
     "execution_count": 76,
     "metadata": {},
     "output_type": "execute_result"
    }
   ],
   "source": [
    "loop_ohare.columns"
   ]
  },
  {
   "cell_type": "markdown",
   "metadata": {},
   "source": [
    "Claim: **\"The average duration of rides from Loop neighborhood to O'Hare International Airport changes on rainy Saturdays.\"**\n",
    "\n",
    "The null hypothesis will be what we are trying to disprove, that the duration is the same on good vs bad days. Hence:\n",
    "\n",
    "* H0 (Null Hypothesis): Average Trip Duration on Good Weather Days == Average Trip Duration on Bad Weather Days\n",
    "* HA (Alternative Hypothesis): Average Trip Duration on Good Weather Days != Average Trip Duration on Bad Weather Days\n",
    "\n",
    "Confidence Level: 95% (Alpha 5%) -- 0.05 Alpha chosen as it is standard practice and I don't have domain experience to alter it."
   ]
  },
  {
   "cell_type": "code",
   "execution_count": 77,
   "metadata": {},
   "outputs": [
    {
     "name": "stdout",
     "output_type": "stream",
     "text": [
      "p-value:  3.903810670914357e-15\n",
      "We reject the null hypothesis\n"
     ]
    }
   ],
   "source": [
    "alpha = .05\n",
    "\n",
    "a = loop_ohare.loc[loop_ohare['weather_conditions']=='Good']['duration_seconds']\n",
    "b = loop_ohare.loc[loop_ohare['weather_conditions']=='Bad']['duration_seconds']\n",
    "\n",
    "results = st.ttest_ind(a, b)\n",
    "\n",
    "print('p-value: ', results.pvalue)\n",
    "\n",
    "if (results.pvalue < alpha):\n",
    "        print(\"We reject the null hypothesis\")\n",
    "else:\n",
    "        print(\"We can't reject the null hypothesis\")"
   ]
  },
  {
   "cell_type": "markdown",
   "metadata": {},
   "source": [
    "As the p-value is less than 0.05, there is a significant difference between the trip durations on good weather days vs bad weather days (and very low chance this difference was caused by randomness). Hence, we can reject the null hypothesis there isn't a difference and **accept the alternative hypothesis that there is a difference in trip duration on good weather days vs bad weather days, in support of the claim**. "
   ]
  },
  {
   "cell_type": "code",
   "execution_count": 78,
   "metadata": {},
   "outputs": [
    {
     "data": {
      "text/plain": [
       "True"
      ]
     },
     "execution_count": 78,
     "metadata": {},
     "output_type": "execute_result"
    }
   ],
   "source": [
    "avg_duration_good_weather = loop_ohare.loc[loop_ohare['weather_conditions']=='Good']['duration_seconds'].mean()\n",
    "avg_duration_bad_weather = loop_ohare.loc[loop_ohare['weather_conditions']=='Bad']['duration_seconds'].mean()\n",
    "avg_duration_bad_weather > avg_duration_good_weather"
   ]
  },
  {
   "cell_type": "markdown",
   "metadata": {},
   "source": [
    "As we have established the difference is significant, now I can look further and see which type of weather has a longer duration and confirm that **trip duration is LONGER on bad weather days than on good weather days**. "
   ]
  },
  {
   "cell_type": "markdown",
   "metadata": {},
   "source": [
    "**T-Test Validity Check**\n",
    "\n",
    "One of the t-test assumptions is **equality/homegeneity of variance** (the groups have equal varicance, to validate the results of the t-test performed, let's check if this assumption is met with the use of the [Levene Test](https://docs.scipy.org/doc/scipy/reference/generated/scipy.stats.levene.html)\n",
    "\n",
    "The null hypothesis is what we are trying to prove wrong or reject. We want to check if we should reject the claim the variances are the same which would invalidate our test.\n",
    "\n",
    "* H0 (Null Hypothesis): Variance of Good Weather Days == Variance of Bad Weather Days\n",
    "* HA (Alternative Hypothesis): Variance of Good Weather Days != Variance of Bad Weather Days\n",
    "\n",
    "The Levene test takes 3 attributes for \"center\". To be more confident on the result, I will test the 3 attributes."
   ]
  },
  {
   "cell_type": "code",
   "execution_count": 79,
   "metadata": {
    "scrolled": true
   },
   "outputs": [
    {
     "data": {
      "text/plain": [
       "0.3563611473946102"
      ]
     },
     "execution_count": 79,
     "metadata": {},
     "output_type": "execute_result"
    }
   ],
   "source": [
    "stat, p = levene(a, b) #center=\"median\" is default\n",
    "p"
   ]
  },
  {
   "cell_type": "code",
   "execution_count": 80,
   "metadata": {},
   "outputs": [
    {
     "data": {
      "text/plain": [
       "0.23877881139560467"
      ]
     },
     "execution_count": 80,
     "metadata": {},
     "output_type": "execute_result"
    }
   ],
   "source": [
    "stat, p = levene(a, b, center=\"mean\")\n",
    "p"
   ]
  },
  {
   "cell_type": "code",
   "execution_count": 81,
   "metadata": {},
   "outputs": [
    {
     "data": {
      "text/plain": [
       "0.4374161297678466"
      ]
     },
     "execution_count": 81,
     "metadata": {},
     "output_type": "execute_result"
    }
   ],
   "source": [
    "stat, p = levene(a, b, center=\"trimmed\")\n",
    "p"
   ]
  },
  {
   "cell_type": "markdown",
   "metadata": {},
   "source": [
    "In all cases, the p-value is not less than .05 so we fail to reject the null hypothesis. Hence, I don't have sufficient evidence to say the variance in trip duration of good weather is significantly different than the variance in trip duration of bad weather days (which would have invalidated the t-test performed). Hence, I will accept the findings of the earlier t-test as the assumption of equality of variance was not disproven."
   ]
  },
  {
   "cell_type": "markdown",
   "metadata": {},
   "source": [
    "## Conclusion <a class=\"anchor\" id=\"conclusion\"></a>"
   ]
  },
  {
   "cell_type": "markdown",
   "metadata": {},
   "source": [
    "A new ride-sharing company **Zuber** is looking to launch in Chicago, IL (USA). As an analysr for Zuber, I have been tasked with answering \"What Affects a Ride?\" by finding patterns relating to passenger preference and the impact of external factors on rides. \n",
    "\n",
    "After analyzing a public data sample of taxicab trips from November 2017 and weather reports, the following insights were discovered: \n",
    "* **Flash Cab is the most successful taxicab company in Chicago** doing almost double the trips as the next company (Taxi Affiliation Services). Due to its overwhelming success, Zuber should consider looking more closely into what this company is doing to achieve such success, perhaps by hiring a consultant with domain experience in the local cab industry. In addition, Zuber should recruit drivers from Flash Cab for its service as they will come in 'Flash Cab' branded cars which due to its popularity might be more trusted.\n",
    "* Although Chicago cabs can be any color, **taxi  use color strategically to be better identified** (or perhaps to be identified with successful competitors) which became evident as many used it as part of branding in their name and particularly relied on the \"yellow\" color (a natural choice due to its popularity in other cities and its origin in Chicago).  If possible, Zuber should recruit drivers with taxi cab colors identified with more reputable companies (like Blue/white for Flash Cab or the recognized yellow if others).\n",
    "* Although Chicago boasts over 90 distinct neighborhoods, **most trips end in the Loop area or surrounding within Downtown Chicago**. Zuber could consider going head to head with these companies in that area or perhaps an even better opportunity of trying to encourage customers outside this area to use Zuber as assumingly they might not be serviced well by the current system. \n",
    "* **Weather plays a significant effect on trip duration with bad weather days yielding longer duration for the same trip**. As longer trips lead to cabs being busy in their trips longer and less supply. Zuber must consider the effect on weather on pricing. Should there be a \"bad weather\" surcharge? Should charge be based on duration so they end up being more expensive on bad weather days? "
   ]
  }
 ],
 "metadata": {
  "kernelspec": {
   "display_name": "Python 3",
   "language": "python",
   "name": "python3"
  },
  "language_info": {
   "codemirror_mode": {
    "name": "ipython",
    "version": 3
   },
   "file_extension": ".py",
   "mimetype": "text/x-python",
   "name": "python",
   "nbconvert_exporter": "python",
   "pygments_lexer": "ipython3",
   "version": "3.7.3"
  }
 },
 "nbformat": 4,
 "nbformat_minor": 2
}
